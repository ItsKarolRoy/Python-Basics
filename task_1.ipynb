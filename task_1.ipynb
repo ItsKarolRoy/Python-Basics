{
  "metadata": {
    "kernelspec": {
      "name": "python",
      "display_name": "Python (Pyodide)",
      "language": "python"
    },
    "language_info": {
      "codemirror_mode": {
        "name": "python",
        "version": 3
      },
      "file_extension": ".py",
      "mimetype": "text/x-python",
      "name": "python",
      "nbconvert_exporter": "python",
      "pygments_lexer": "ipython3",
      "version": "3.8"
    }
  },
  "nbformat_minor": 5,
  "nbformat": 4,
  "cells": [
    {
      "id": "abe8ea60-a5ff-412d-bb5a-4be5fffcb9ba",
      "cell_type": "code",
      "source": "#creating a set\nmy_set = {2,4,6,8,10}\n\n#adding\nmy_set.add(12)\n\n#removing\nmy_set.remove(6)\n\n#modify\nmy_set.discard(4)\nmy_set.add(14)\n\nprint(\"updated set:\",my_set)",
      "metadata": {
        "trusted": true
      },
      "outputs": [
        {
          "name": "stdout",
          "text": "updated set: {2, 8, 10, 12, 14}\n",
          "output_type": "stream"
        }
      ],
      "execution_count": 1
    },
    {
      "id": "50f14f0f-aed5-4bbb-9175-263f53c4bdfe",
      "cell_type": "code",
      "source": "#creating my list\nmy_list = [2,4,6,8,10]\n\n#adding an element into the list\nmy_list.append(6)\n\n#removing an element from the list\nmy_list.remove(4)\n\n#modifying an element in the list\nmy_list[0] = 10\n\nprint(\"updated list\",my_list)",
      "metadata": {
        "trusted": true
      },
      "outputs": [
        {
          "name": "stdout",
          "text": "updated list [10, 6, 8, 10, 6]\n",
          "output_type": "stream"
        }
      ],
      "execution_count": 2
    },
    {
      "id": "91e1173a-2be7-438e-853d-7a511e3ab8e3",
      "cell_type": "code",
      "source": "#creating a dictionary\nmy_dict = {'name':'swen','age':25,'city':'tokyo'}\n\n#adding \nmy_dict['gender'] = 'male'\n\n#removing\ndel my_dict['age']\n\n#modify\nmy_dict['city'] = 'new york'\n\nprint(\"updated dictionary:\",my_dict)",
      "metadata": {
        "trusted": true
      },
      "outputs": [
        {
          "name": "stdout",
          "text": "updated dictionary: {'name': 'swen', 'city': 'new york', 'gender': 'male'}\n",
          "output_type": "stream"
        }
      ],
      "execution_count": 3
    },
    {
      "id": "4fdc9a2b-de73-4105-96db-f21e9e2737db",
      "cell_type": "code",
      "source": "",
      "metadata": {
        "trusted": true
      },
      "outputs": [],
      "execution_count": null
    }
  ]
}